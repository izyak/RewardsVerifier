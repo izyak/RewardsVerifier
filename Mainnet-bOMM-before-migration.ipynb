{
 "cells": [
  {
   "cell_type": "markdown",
   "metadata": {},
   "source": [
    "# Set Up Environment"
   ]
  },
  {
   "cell_type": "code",
   "execution_count": null,
   "metadata": {},
   "outputs": [],
   "source": [
    "from iconservice import AddressPrefix, Address\n",
    "from iconsdk.exception import JSONRPCException\n",
    "from iconsdk.libs.in_memory_zip import gen_deploy_data_content\n",
    "from iconsdk.icon_service import IconService\n",
    "from iconsdk.providers.http_provider import HTTPProvider\n",
    "from iconsdk.builder.transaction_builder import CallTransactionBuilder, TransactionBuilder, DeployTransactionBuilder,DepositTransactionBuilder\n",
    "from iconsdk.builder.call_builder import CallBuilder\n",
    "from iconsdk.signed_transaction import SignedTransaction\n",
    "from iconsdk.wallet.wallet import KeyWallet\n",
    "from iconsdk.utils.convert_type import convert_hex_str_to_int\n",
    "from datetime import datetime\n",
    "from checkscore.repeater import retry\n",
    "from shutil import make_archive\n",
    "import requests\n",
    "import json\n",
    "import time\n",
    "import random\n",
    "import pickle as pkl\n",
    "import csv\n",
    "import os\n",
    "from pprint import pprint\n",
    "from getpass import getpass\n",
    "from dotenv import dotenv_values\n",
    "\n",
    "deployment_status = {}\n",
    "print(1)"
   ]
  },
  {
   "cell_type": "code",
   "execution_count": null,
   "metadata": {},
   "outputs": [],
   "source": [
    "# cell 3\n",
    "NETWORK = \"mainnet\"\n",
    "\n",
    "connections = {\n",
    "    \"mainnet\": {\"iconservice\": \"https://ctz.solidwallet.io\", \"nid\": 1},\n",
    "    \"yeouido\": {\"iconservice\": \"https://bicon.net.solidwallet.io\", \"nid\": 3},\n",
    "    \"euljiro\": {\"iconservice\": \"https://test-ctz.solidwallet.io\", \"nid\": 2},\n",
    "    \"pagoda\": {\"iconservice\": \"https://zicon.net.solidwallet.io\", \"nid\": 80},\n",
    "    \"goloop\": {\"iconservice\": \"http://18.237.205.52:9082/\", \"nid\": 3},\n",
    "    \"local\": {\"iconservice\": \"http://localhost:9000/\", \"nid\": 3},\n",
    "    \"berlin\": {\"iconservice\": \"https://berlin.net.solidwallet.io\", \"nid\": 7},\n",
    "    \"lisbon\": {\"iconservice\": \"https://lisbon.net.solidwallet.io\", \"nid\": 2},\n",
    "    \"sejong\": {\"iconservice\": \"https://sejong.net.solidwallet.io\", \"nid\": 83}\n",
    "}\n",
    "\n",
    "env = connections[NETWORK]\n",
    "\n",
    "icon_service = IconService(HTTPProvider(env[\"iconservice\"], 3))\n",
    "NID = env[\"nid\"]\n",
    "\n",
    "\n",
    "@retry(JSONRPCException, tries=10, delay=1, back_off=2)\n",
    "def get_tx_result(_tx_hash):\n",
    "    tx_result = icon_service.get_transaction_result(_tx_hash)\n",
    "    return tx_result\n",
    "\n",
    "\n",
    "print(f\"network -> {NETWORK}\")\n",
    "print(f\"nid -> {NID}\")"
   ]
  },
  {
   "cell_type": "code",
   "execution_count": null,
   "metadata": {},
   "outputs": [],
   "source": [
    "# cell 4\n",
    "# initialized all methods\n",
    "def get_status_and_print(to, method, response, logs = False) -> int:\n",
    "    \"\"\"\n",
    "    get status and print response\n",
    "    :param to:\n",
    "    :param method:\n",
    "    :param response:\n",
    "    :return: status\n",
    "    \"\"\"\n",
    "    status = response['status']\n",
    "    print(f'SCORE {to} ::: Method {method} ::: Status: {status}')\n",
    "    if logs:\n",
    "        if len(response[\"eventLogs\"]) > 0:\n",
    "            for item in response[\"eventLogs\"]:\n",
    "                print(f'{item} \\n')\n",
    "        if status == 0:\n",
    "            print(f'Failure: {response[\"failure\"]}')\n",
    "    return status\n",
    "\n",
    "\n",
    "def _deploy_contract(_contract_name, params):\n",
    "    deploy_transaction = DeployTransactionBuilder() \\\n",
    "        .from_(deployer_wallet.get_address()) \\\n",
    "        .to(GOVERNANCE_ADDRESS) \\\n",
    "        .nid(NID) \\\n",
    "        .nonce(100) \\\n",
    "        .step_limit(100000000000) \\\n",
    "        .content_type(\"application/zip\") \\\n",
    "        .content(gen_deploy_data_content(_contract_name)) \\\n",
    "        .params(params) \\\n",
    "        .build()\n",
    "    signed_transaction = SignedTransaction(deploy_transaction, deployer_wallet)\n",
    "    tx_hash = icon_service.send_transaction(signed_transaction)\n",
    "    pprint(tx_hash)\n",
    "    res = get_tx_result(tx_hash)\n",
    "    status = get_status_and_print(_contract_name, \"deploy\", res)\n",
    "\n",
    "    return {\n",
    "        \"address\": res.get('scoreAddress', ''),\n",
    "        \"status\": status\n",
    "    }\n",
    "\n",
    "\n",
    "def deploy_contract(_contract_name):\n",
    "    \"\"\"\n",
    "    deploy all contracts excepts oToken and dToken\n",
    "    :param _contract_name:  name of contract - should match with package name\n",
    "    :return: SCORE address\n",
    "    \"\"\"\n",
    "    params = {}\n",
    "    if _contract_name == \"workerToken\":\n",
    "        params = {'_initialSupply': int(config.get(\"worker_token_initial\")), '_decimals': 18}\n",
    "    if _contract_name == \"rewardDistribution\":\n",
    "        DISTRIBUTION_PERCENTAGE = [\n",
    "            {\"recipient\": \"worker\", \"percentage\": f'{WORKER_DIST_PERCENTAGE}'},\n",
    "            {\"recipient\": \"daoFund\", \"percentage\": f'{DAO_DIST_PERCENTAGE}'},\n",
    "            {\"recipient\": \"lendingBorrow\", \"percentage\": f'{LENDING_BORROW_PERCENTAGE}'},\n",
    "            {\"recipient\": \"liquidityProvider\", \"percentage\": f'{LP_OMM_STAKING_PERCENTAGE}'}\n",
    "        ]\n",
    "        params = {\"_distPercentage\": DISTRIBUTION_PERCENTAGE, \"_startTimestamp\": TIMESTAMP}\n",
    "\n",
    "    if _contract_name not in ['addressProvider', \"workerToken\"]:\n",
    "        params['_addressProvider'] = contracts['addressProvider']\n",
    "\n",
    "    result = _deploy_contract(_contract_name, params)\n",
    "    deployment_status[f\"deploy_contract_{_contract_name}\"] = result[\"status\"]\n",
    "    return result[\"address\"]\n",
    "\n",
    "def deposit_transaction(_from, _to, _value, _method=\"add\"):\n",
    "    \"\"\"\n",
    "    Deposit fee to contracts for fee sharing\n",
    "    :param _from: transaction wallet\n",
    "    :param _to: contract to deposit fee for fee sharing\n",
    "    :param _value: amount to deposit\n",
    "    :param _method: method\n",
    "    :return: status of transaction\n",
    "    \"\"\"\n",
    "    print(f\"Depositing {_value} to {_to} contract for fee sharing\")\n",
    "    transaction = DepositTransactionBuilder() \\\n",
    "        .from_(_from.get_address()) \\\n",
    "        .to(contracts[_to]) \\\n",
    "        .nid(NID) \\\n",
    "        .value(_value) \\\n",
    "        .step_limit(1000000000) \\\n",
    "        .nonce(100) \\\n",
    "        .action(_method) \\\n",
    "        .build()\n",
    "    \n",
    "    signed_transaction = SignedTransaction(transaction, _from)\n",
    "    tx_hash = icon_service.send_transaction(signed_transaction)\n",
    "    response = get_tx_result(tx_hash)\n",
    "    status = get_status_and_print(_to, _method, response)\n",
    "    return status\n",
    "\n",
    "def deploy_token_contract(token, params):\n",
    "    \"\"\"\n",
    "    deploy  oTokens and dTokens\n",
    "    :param token: token name\n",
    "    :param params: parameter\n",
    "    :return: SCORE address\n",
    "    \"\"\"\n",
    "    name = params[\"name\"]\n",
    "    symbol = params[\"symbol\"]\n",
    "    decimals = params[\"decimals\"]\n",
    "    print(f\"deploying {name}::{symbol}::{decimals}\")\n",
    "    params = {\"_name\": name, \"_symbol\": symbol, \"_decimals\": decimals, '_addressProvider': contracts['addressProvider']}\n",
    "\n",
    "    result = _deploy_contract(token, params)\n",
    "    deployment_status[f\"deploy_{token}_contract_{symbol}\"] = result[\"status\"]\n",
    "    return result[\"address\"]\n",
    "\n",
    "\n",
    "def send_tx(_to, _method, _params, _value, _wallet, _tx_detail = False) -> int:\n",
    "    \"\"\"\n",
    "    send transaction to _to\n",
    "    :param _to: destination conract name\n",
    "    :param _method: method\n",
    "    :param _params:  parameters\n",
    "    :param _value:  value\n",
    "    :param _wallet: transaction wallet\n",
    "    :return: status of transaction\n",
    "    \"\"\"\n",
    "    print(f'Calling {_method}, with parameters {_params} on the {_to} contract.')\n",
    "    transaction = CallTransactionBuilder() \\\n",
    "        .from_(_wallet.get_address()) \\\n",
    "        .to(contracts[_to]) \\\n",
    "        .value(_value) \\\n",
    "        .step_limit(1_00_000_000) \\\n",
    "        .nid(NID) \\\n",
    "        .nonce(100) \\\n",
    "        .method(_method) \\\n",
    "        .params(_params) \\\n",
    "        .build()\n",
    "    signed_transaction = SignedTransaction(transaction, _wallet)\n",
    "    tx_hash = icon_service.send_transaction(signed_transaction)\n",
    "    print(f\"{_to} ::> {_method} ::> {tx_hash}\")\n",
    "    response = get_tx_result(tx_hash)\n",
    "    if _tx_detail:\n",
    "        pprint(response)\n",
    "    status = get_status_and_print(_to, _method, response)\n",
    "    return status\n",
    "\n",
    "def hexToInt(value):\n",
    "    if type(value) is str:\n",
    "        return int(value,0)\n",
    "    if type(value) is dict:\n",
    "        res ={}\n",
    "        for k,v in value.items():\n",
    "            if(not v.startswith(\"cx\")):\n",
    "                res[k]=int(v,0)\n",
    "        return res\n",
    "\n",
    "def call_tx(contact, method, params):\n",
    "    call = CallBuilder()\\\n",
    "        .from_('hx91bf040426f226b3bfcd2f0b5967bbb0320525ce')\\\n",
    "        .to(contracts[contact])\\\n",
    "        .method(method)\\\n",
    "        .params(params)\\\n",
    "        .build()\n",
    "    response = icon_service.call(call)\n",
    "    return response\n",
    "\n",
    "def send_icx(_to, _value, _wallet) -> int:\n",
    "    \"\"\"\n",
    "    send transaction to _to\n",
    "    :param _to: destination address\n",
    "    :param _value:  value\n",
    "    :param _wallet: transaction wallet\n",
    "    :return: status of transaction\n",
    "    \"\"\"\n",
    "    transaction = TransactionBuilder()\\\n",
    "        .from_(_wallet.get_address())\\\n",
    "        .to(_to)\\\n",
    "        .value(_value)\\\n",
    "        .step_limit(1_000_000_000)\\\n",
    "        .nid(NID)\\\n",
    "        .nonce(100)\\\n",
    "        .build()\n",
    "    signed_transaction = SignedTransaction(transaction, _wallet)\n",
    "    tx_hash = icon_service.send_transaction(signed_transaction)\n",
    "    print(f\"{_to} ::> icx ::> {tx_hash}\")\n",
    "    get_tx_result(tx_hash)\n"
   ]
  },
  {
   "cell_type": "code",
   "execution_count": null,
   "metadata": {},
   "outputs": [],
   "source": [
    "contracts = {\n",
    "  \"sicx\": \"cx2609b924e33ef00b648a409245c7ea394c467824\",\n",
    "  \"staking\": \"cx43e2eec79eb76293c298f2b17aec06097be606e0\",\n",
    "  \"iusdc\": \"cxae3034235540b924dfcc1b45836c293dcc82bfb7\",\n",
    "  \"usds\": \"cxbb2871f468a3008f80b08fdde5b8b951583acf06\",\n",
    "  \"bnUSD\": \"cx88fd7df7ddff82f7cc735c871dc519838cb235bb\",\n",
    "  \"bandOracle\": \"cxe647e0af68a4661566f5e9861ad4ac854de808a2\",\n",
    "  \"dex\": \"cxa0af3165c08318e988cb30993b3048335b94af6c\",\n",
    "  \"addressProvider\": \"cx6a66130200b4f08c65ef394469404378ab52e5b6\",\n",
    "  \"daoFund\": \"cx48a83a6fbdaa205a060514fd23ad6871c070f896\",\n",
    "  \"feeProvider\": \"cx4f3c2edf730f203b1ef1257d645415652ae8b4fb\",\n",
    "  \"governance\": \"cx8190de91c8831f382dcabdbc87968448380c4838\",\n",
    "  \"lendingPoolCore\": \"cxfb312bbd0a244b9e7bb5794c91f4e4acc41dea94\",\n",
    "  \"liquidationManager\": \"cx533d76093a7b14fdbc3e213c7f987f1b6fea976c\",\n",
    "  \"priceOracle\": \"cx189f03875da766878c68753da7492c080bcc2dbe\",\n",
    "  \"rewardDistribution\": \"cx4f2d730ad969f5c839229de42184c5e47aefef6f\",\n",
    "  \"dUSDS\": \"cx4729aa82ba504deae71e888e77fa85c2f0c60429\",\n",
    "  \"dICX\": \"cxdd660884b8b71daf105483a41f190a808bde9ef0\",\n",
    "  \"dIUSDC\": \"cxb31005e782bcbcb651fb546219899f9439c52b69\",\n",
    "  \"oUSDS\": \"cx1837c2a92340e91b115457b853fe927bd9fbdd5f\",\n",
    "  \"oICX\": \"cx0fb973aaab3a26cc99022ba455e5bdfed1d6f0d9\",\n",
    "  \"oIUSDC\": \"cxa8efd07255884afd5069d6011a66b1fe49610013\",\n",
    "  \"delegation\": \"cx841f29ec6ce98b527d49a275e87d427627f1afe5\",\n",
    "  \"lendingPool\": \"cxcb455f26a2c01c686fa7f30e1e3661642dd53c0d\",\n",
    "  \"lendingPoolDataProvider\": \"cx5f9a6ca11b2b761a469965cedab40ada9e503cb5\",\n",
    "  \"ommToken\": \"cx1a29259a59f463a67bb2ef84398b30ca56b5830a\", \n",
    "  \"workerToken\": \"cx718eb47bcf1da56a32afa53ad128844adcfc8211\",\n",
    "  \"stakedLp\": \"cx015c7f8884d43519aa2bcf634140bd7328730cb6\",\n",
    "  \"OMM/sICX\": \"cx687fa54d7b8328fc560dc7a68a0d44d7f1091a25\",\n",
    "  \"OMM/USDS\": \"cxd5383585ecd157f0588bbf06062699126680e0f7\",\n",
    "  \"OMM/IUSDC\": \"cx53f4dd2c3243f646b3565ecdab6f2c3b7aa6defb\",\n",
    "  \"obnUSD\": \"cx333b95ba1ab735533dc86f81501514083879cde5\",\n",
    "  \"dbnUSD\": \"cx440d7bf3607246a6d73ac089ee8d87fc62a68c80\",\n",
    "  \"dBALN\": \"cx3dd0f6f2e16da7a60c1b34086bbd7943af7b55f3\",\n",
    "  \"dOMM\": \"cx07e2ae66d804bf8a86d68c9348e83271456994ee\",\n",
    "  \"obnUSD\": \"cx333b95ba1ab735533dc86f81501514083879cde5\",\n",
    "  \"oBALN\": \"cx0b33a9e5ee380b5d76223dd5396a20833bbb84a9\",\n",
    "  \"oOMM\": \"cx0a075eb7bc938b8ec49b1a7e9c83d83dd89f9324\"\n",
    "}"
   ]
  },
  {
   "cell_type": "markdown",
   "metadata": {},
   "source": [
    "### Import deployer wallet"
   ]
  },
  {
   "cell_type": "code",
   "execution_count": null,
   "metadata": {},
   "outputs": [],
   "source": [
    "# cell 5\n",
    "import getpass\n",
    "\n",
    "# keystore_password = getpass.getpass(f'Password for deployer wallet keystore : ')\n",
    "deployer_wallet = KeyWallet.load(bytes.fromhex('c5769504c2712e1c6798291a8e1ad67d7c7d0bfa4eea9773c391ac8e158f73d6'))\n",
    "print(deployer_wallet.get_address())\n",
    "print(icon_service.get_balance(deployer_wallet.get_address())/10**18)"
   ]
  },
  {
   "cell_type": "code",
   "execution_count": null,
   "metadata": {},
   "outputs": [],
   "source": [
    "contractsMap = {}\n",
    "for k,v in contracts.items():\n",
    "    contractsMap[v] = k"
   ]
  },
  {
   "cell_type": "markdown",
   "metadata": {},
   "source": [
    "## 1. Collect data before to verify the emission rates"
   ]
  },
  {
   "cell_type": "code",
   "execution_count": null,
   "metadata": {},
   "outputs": [],
   "source": [
    "er = hexToInt(call_tx('rewardDistribution','getAssetEmission',{}))\n",
    "emission_rates = {}\n",
    "for k,v in er.items():\n",
    "    emission_rates[contractsMap[k]] = v\n",
    "emission_rates"
   ]
  },
  {
   "cell_type": "markdown",
   "metadata": {},
   "source": [
    "## 2. Collect the users list "
   ]
  },
  {
   "cell_type": "markdown",
   "metadata": {},
   "source": [
    "### 2.1 Depositors/Borrowers\n"
   ]
  },
  {
   "cell_type": "code",
   "execution_count": null,
   "metadata": {},
   "outputs": [],
   "source": [
    "depositors = []\n",
    "\n",
    "def get_depositors(index):\n",
    "    wallets = call_tx('lendingPool','getDepositWallets',{'_index': index})\n",
    "    depositors.extend(wallets)\n",
    "    if len(wallets) == 50:\n",
    "        get_depositors(index + 1)\n",
    "        \n",
    "get_depositors(0)\n",
    "len(depositors)"
   ]
  },
  {
   "cell_type": "markdown",
   "metadata": {},
   "source": [
    "### 2.2 OMM Stakers"
   ]
  },
  {
   "cell_type": "code",
   "execution_count": null,
   "metadata": {},
   "outputs": [],
   "source": [
    "stakers = []\n",
    "def get_stakers(start):\n",
    "    params = {'_start': start, '_end': start + 100}\n",
    "    wallets = call_tx('ommToken','getStakersList',params)\n",
    "    stakers.extend(wallets)\n",
    "    if len(wallets) == 100:\n",
    "        get_stakers(start + 100)\n",
    "get_stakers(0)\n",
    "len(stakers)"
   ]
  },
  {
   "cell_type": "markdown",
   "metadata": {},
   "source": [
    "### 2.3 oToken transfers"
   ]
  },
  {
   "cell_type": "code",
   "execution_count": null,
   "metadata": {},
   "outputs": [],
   "source": [
    "oTokens = ['oUSDS','oICX']\n",
    "otoken_transfer_wallets = []\n",
    "for i in oTokens:\n",
    "    addr = contracts[i]\n",
    "    resp = requests.get(f\"https://main.tracker.solidwallet.io/v3/contract/txList?addr={addr}&page=1&count=25\")\n",
    "    data = resp.json()['data']\n",
    "    for d in data:\n",
    "        _hash = d.get('txHash')\n",
    "        response = requests.get(f\"https://main.tracker.solidwallet.io/v3/transaction/txDetail?txHash={_hash}\")\n",
    "        _data = response.json()['data']\n",
    "        if _data['status'] == 'Success':\n",
    "            ds = json.loads(_data.get('dataString'))\n",
    "            if ds.get(\"method\") == \"transfer\":\n",
    "                otoken_transfer_wallets.append(ds.get(\"params\").get(\"_to\"))\n",
    "len(otoken_transfer_wallets)"
   ]
  },
  {
   "cell_type": "markdown",
   "metadata": {},
   "source": [
    "### 2.4 LP Stakers (get from external script)"
   ]
  },
  {
   "cell_type": "code",
   "execution_count": null,
   "metadata": {},
   "outputs": [],
   "source": [
    "lp_stakers = []"
   ]
  },
  {
   "cell_type": "code",
   "execution_count": null,
   "metadata": {},
   "outputs": [],
   "source": [
    "users = list(set(stakers + depositors + otoken_transfer_wallets + lp_stakers))\n",
    "len(users)"
   ]
  },
  {
   "cell_type": "code",
   "execution_count": null,
   "metadata": {},
   "outputs": [],
   "source": [
    "users"
   ]
  },
  {
   "cell_type": "code",
   "execution_count": null,
   "metadata": {},
   "outputs": [],
   "source": [
    "with open('MigratedUsers.json','w') as outfile:\n",
    "    json.dump(users, outfile)"
   ]
  },
  {
   "cell_type": "code",
   "execution_count": null,
   "metadata": {},
   "outputs": [],
   "source": [
    "detailed_users = {}\n",
    "detailed_users['depositors'] = depositors\n",
    "detailed_users['stakers'] = stakers\n",
    "detailed_users['lp_stakers'] = lp_stakers\n",
    "detailed_users['oTokenTransfers'] = otoken_transfer_wallets\n",
    "with open('DetailMigratedUsers.json','w') as outfile:\n",
    "    json.dump(detailed_users, outfile)"
   ]
  },
  {
   "cell_type": "markdown",
   "metadata": {},
   "source": [
    "## 3. Check prepDelegations"
   ]
  },
  {
   "cell_type": "code",
   "execution_count": null,
   "metadata": {},
   "outputs": [],
   "source": [
    "beforePreps = call_tx('delegation','computeDelegationPercentages',{})\n",
    "len(beforePreps)"
   ]
  },
  {
   "cell_type": "code",
   "execution_count": null,
   "metadata": {},
   "outputs": [],
   "source": [
    "with open('BeforePrepDelegations.json','w') as outfile:\n",
    "    json.dump(beforePreps, outfile)"
   ]
  },
  {
   "cell_type": "markdown",
   "metadata": {},
   "source": [
    "## 4. Get voting weight"
   ]
  },
  {
   "cell_type": "code",
   "execution_count": null,
   "metadata": {},
   "outputs": [],
   "source": [
    "proposals = call_tx('governance','getProposals',{})\n",
    "proposal_details = []\n",
    "for proposal in proposals:\n",
    "    _id = proposal.get('id')\n",
    "    _timestamp = proposal.get('vote snapshot')\n",
    "    _weight = int(call_tx('ommToken','totalStakedBalanceOfAt',{'_timestamp': _timestamp}),0)\n",
    "    proposal_details.append({\n",
    "        'id': _id,\n",
    "        'timestamp': _timestamp,\n",
    "        'weight': _weight\n",
    "    })\n",
    "proposal_details"
   ]
  },
  {
   "cell_type": "code",
   "execution_count": null,
   "metadata": {},
   "outputs": [],
   "source": [
    "with open('Proposal_Weights.json','w') as outfile:\n",
    "    json.dump(proposal_details, outfile)"
   ]
  }
 ],
 "metadata": {
  "celltoolbar": "Slideshow",
  "kernelspec": {
   "display_name": "Python 3 (ipykernel)",
   "language": "python",
   "name": "python3"
  },
  "language_info": {
   "codemirror_mode": {
    "name": "ipython",
    "version": 3
   },
   "file_extension": ".py",
   "mimetype": "text/x-python",
   "name": "python",
   "nbconvert_exporter": "python",
   "pygments_lexer": "ipython3",
   "version": "3.7.0"
  },
  "rise": {
   "scroll": true
  }
 },
 "nbformat": 4,
 "nbformat_minor": 2
}
