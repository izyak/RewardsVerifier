{
 "cells": [
  {
   "cell_type": "code",
   "execution_count": null,
   "id": "92426092",
   "metadata": {},
   "outputs": [],
   "source": [
    "import csv\n",
    "from collections import defaultdict"
   ]
  },
  {
   "cell_type": "code",
   "execution_count": null,
   "id": "6c1e4bda",
   "metadata": {},
   "outputs": [],
   "source": [
    "\"\"\"\n",
    "row[4] = expectedNewIndex (saved as key index )\n",
    "row[5] = expectedUnclaimedReward (saved as key reward )\n",
    "\"\"\"\n",
    "before_data = defaultdict(dict)\n",
    "files_before = [\"UsersDataBefore.csv\"]#,\"UsersData1b.csv\"]\n",
    "for file in files_before:\n",
    "    with open(file, 'r') as file:\n",
    "        csvreader = csv.reader(file)\n",
    "        header = next(csvreader)\n",
    "        for row in csvreader:\n",
    "            before_data[str(row[0])][str(row[1])] = {\"index\":row[4]} \n",
    "            before_data[str(row[0])][str(row[1])] = {\"reward\":row[5]} "
   ]
  },
  {
   "cell_type": "code",
   "execution_count": null,
   "id": "ca96c345",
   "metadata": {},
   "outputs": [],
   "source": [
    "\"\"\"\n",
    "row[4] = oldIndex (saved as key index )\n",
    "row[5] = actualUnclaimedReward (saved as key reward )\n",
    "\"\"\"\n",
    "files_after = [\"UsersDataAfter.csv\"]#,\"UsersDataAfter1b.csv\",\"UsersDataAfter1c.csv\"]\n",
    "after_data = defaultdict(dict)\n",
    "for file in files_after:\n",
    "    with open(file, 'r') as file:\n",
    "        csvreader = csv.reader(file)\n",
    "        header = next(csvreader)\n",
    "        for row in csvreader:\n",
    "            after_data[str(row[0])][str(row[1])] = {\"index\":row[2]} \n",
    "            after_data[str(row[0])][str(row[1])] = {\"reward\":row[6]} "
   ]
  },
  {
   "cell_type": "code",
   "execution_count": null,
   "id": "e8e3c8b8",
   "metadata": {},
   "outputs": [],
   "source": [
    "assert before_data == after_data"
   ]
  },
  {
   "cell_type": "code",
   "execution_count": null,
   "id": "31ba80ef",
   "metadata": {},
   "outputs": [],
   "source": [
    "random_user = \"hx017bd0d05e9a1aeadd80af8153675fdaf4d0817a\"\n",
    "assert before_data[random_user] == after_data[random_user]"
   ]
  }
 ],
 "metadata": {
  "kernelspec": {
   "display_name": "Python 3 (ipykernel)",
   "language": "python",
   "name": "python3"
  },
  "language_info": {
   "codemirror_mode": {
    "name": "ipython",
    "version": 3
   },
   "file_extension": ".py",
   "mimetype": "text/x-python",
   "name": "python",
   "nbconvert_exporter": "python",
   "pygments_lexer": "ipython3",
   "version": "3.7.0"
  }
 },
 "nbformat": 4,
 "nbformat_minor": 5
}
