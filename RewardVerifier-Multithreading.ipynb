{
 "cells": [
  {
   "cell_type": "markdown",
   "metadata": {},
   "source": [
    "#### Importing packages\n"
   ]
  },
  {
   "cell_type": "code",
   "execution_count": null,
   "metadata": {},
   "outputs": [],
   "source": [
    "# ! pip install checkscore\n",
    "from iconsdk.exception import JSONRPCException\n",
    "from iconsdk.libs.in_memory_zip import gen_deploy_data_content\n",
    "from iconsdk.icon_service import IconService\n",
    "from iconsdk.providers.http_provider import HTTPProvider\n",
    "from iconsdk.builder.transaction_builder import CallTransactionBuilder, TransactionBuilder, DeployTransactionBuilder, DepositTransactionBuilder\n",
    "from iconsdk.builder.call_builder import CallBuilder\n",
    "from iconsdk.signed_transaction import SignedTransaction\n",
    "from iconsdk.wallet.wallet import KeyWallet\n",
    "from iconsdk.utils.convert_type import convert_hex_str_to_int\n",
    "from checkscore.repeater import retry\n",
    "import requests\n",
    "import csv\n",
    "import concurrent.futures\n",
    "import json\n",
    "import pickle\n",
    "\n",
    "import csv\n",
    "import os\n",
    "import time\n",
    "from pprint import pprint\n",
    "EXA = 10**18\n"
   ]
  },
  {
   "cell_type": "markdown",
   "metadata": {},
   "source": [
    "#### Methods for exa calculations"
   ]
  },
  {
   "cell_type": "code",
   "execution_count": null,
   "metadata": {},
   "outputs": [],
   "source": [
    "EXA = 10**18\n",
    "halfEXA = EXA // 2\n",
    "SECONDS_PER_YEAR = 31536000\n",
    "\n",
    "\n",
    "def exaMul(a: int, b: int) -> int:\n",
    "    return (halfEXA + (a*b)) // EXA\n",
    "\n",
    "def exaDiv(a: int, b: int) -> int:\n",
    "    halfB = b // 2\n",
    "    return (halfB + (a * EXA)) // b\n",
    "\n",
    "def exaPow(x: int, n: int) -> int:\n",
    "    if n % 2 != 0:\n",
    "        z = x\n",
    "    else:\n",
    "        z = EXA\n",
    "\n",
    "    n = n // 2\n",
    "    while n != 0:\n",
    "        x = exaMul(x, x)\n",
    "\n",
    "        if (n % 2 != 0):\n",
    "            z = exaMul(z, x)\n",
    "\n",
    "        n = n // 2\n",
    "        \n",
    "    return z\n",
    "\n",
    "\n",
    "\n",
    "def convertToExa(_amount:int,_decimals:int)-> int:\n",
    "    if _decimals >= 0:\n",
    "        return _amount * EXA // (10 ** _decimals)\n",
    "\n",
    "def convertExaToOther(_amount:int,_decimals:int)->int:\n",
    "    if _decimals >= 0:\n",
    "        return _amount * (10 ** _decimals) // EXA\n",
    "\n"
   ]
  },
  {
   "cell_type": "markdown",
   "metadata": {},
   "source": [
    "#### Connection Setup"
   ]
  },
  {
   "cell_type": "code",
   "execution_count": null,
   "metadata": {},
   "outputs": [],
   "source": [
    "connections = {\n",
    "    \"mainnet\": {\"iconservice\": \"https://ctz.solidwallet.io\",\n",
    "                \"nid\": 1,\n",
    "                },\n",
    "    \"sejong\":  {\"iconservice\": \"https://sejong.net.solidwallet.io\", \n",
    "                \"nid\": 83,\n",
    "                }\n",
    "    }\n"
   ]
  },
  {
   "cell_type": "markdown",
   "metadata": {},
   "source": [
    "### Set the right addresses and variables here"
   ]
  },
  {
   "cell_type": "code",
   "execution_count": null,
   "metadata": {},
   "outputs": [],
   "source": [
    "# set the required addresses for the SCOREs here\n",
    "contracts = {\n",
    "  \"mainnet\":{\"rewardDistribution\": \"cx4f2d730ad969f5c839229de42184c5e47aefef6f\",\n",
    "              \"ommToken\": \"cx1a29259a59f463a67bb2ef84398b30ca56b5830a\",\n",
    "              \"stakedLp\":\"cx015c7f8884d43519aa2bcf634140bd7328730cb6\",\n",
    "              \"rewardWeightController\":\"\"\n",
    "              },\n",
    "  \"sejong\":{\"rewardDistribution\": \"cxdfacc2dfc97dd04194b9cde6f1471a077006eb20\",\n",
    "            \"ommToken\": \"cxfb87d89db97a23b82f56eef8e01990ae8ab5f48a\",\n",
    "            \"stakedLp\":\"cx64bc5cc717b94c6ed4a78bc70c8fd5919fd80669\",\n",
    "            \"rewardWeightController\":\"cx2b5fb9624ff97be877cbaeaf222881af0d91ec26\"\n",
    "            }}\n",
    "lps_list ={\"sejong\":{\"OMM/sICX\": \"cxbebd021f5cb43c6cf0740a3b45ba1b7ae596da45\",\n",
    "                     \"OMM/USDS\": \"cx1087d7d516916a493463280f97dd1bba6983fd96\",\n",
    "                     \"OMM/IUSDC\": \"cxa65f489e4e466eec155e0ebfe06028f9314a48de\"},\n",
    "            \"mainnet\":{\"OMM/sICX\": \"cx687fa54d7b8328fc560dc7a68a0d44d7f1091a25\",\n",
    "                       \"OMM/USDS\": \"cxa7c9f0afe73e541aee7030a931aec41b81819e74\",\n",
    "                       \"OMM/IUSDC\": \"cx53f4dd2c3243f646b3565ecdab6f2c3b7aa6defb\"}}\n",
    "pool_ids = {\"sejong\":{\"OMM/sICX\":'0x37' ,\n",
    "                     \"OMM/USDS\":'0x35' ,\n",
    "                     \"OMM/IUSDC\":'0x36' },\n",
    "            \"mainnet\":{\"OMM/sICX\": 7,\n",
    "                       \"OMM/USDS\":8 ,\n",
    "                       \"OMM/IUSDC\":6 }}\n",
    "excluded_assets = {\"sejong\":{\"daoFund\":\"cxd216bf80795931bc2d46743818cac5577fa8bfc1\",\n",
    "                             \"workerToken\":\"cx4c22d765993edca730049ebde6d28c246dbf0acb\",\n",
    "                             \"bOMM\": \"cx8a96a391a03716e909e669f8290dcbd192f0d21e\"},\n",
    "                   \"mainnet\":{\"daoFund\":\"cx48a83a6fbdaa205a060514fd23ad6871c070f896\",\n",
    "                             \"workerToken\":\"cx718eb47bcf1da56a32afa53ad128844adcfc8211\",\n",
    "                             \"bOMM\": \"\"},\n",
    "                             \n",
    "}\n",
    "\n",
    "# # set the addresses of the assets here\n",
    "# assets={\"mainnet\":{},\"sejong\":{}}\n",
    "\n",
    "#set the cutOffTimestamp here\n",
    "# cutOffTime=1650015900\n",
    "cutOffTime=1655960400\n",
    "\n",
    "# set the env\n",
    "env =\"mainnet\"\n",
    "\n"
   ]
  },
  {
   "cell_type": "code",
   "execution_count": null,
   "metadata": {},
   "outputs": [],
   "source": [
    "assetMap = {     \n",
    "    'OMM': 'cx1a29259a59f463a67bb2ef84398b30ca56b5830a',\n",
    "    'bOMM': '',\n",
    "    \"dUSDS\": \"cx4729aa82ba504deae71e888e77fa85c2f0c60429\",\n",
    "    \"dICX\": \"cxdd660884b8b71daf105483a41f190a808bde9ef0\",\n",
    "    \"dIUSDC\": \"cxb31005e782bcbcb651fb546219899f9439c52b69\",\n",
    "    \"oUSDS\": \"cx1837c2a92340e91b115457b853fe927bd9fbdd5f\",\n",
    "    \"oICX\": \"cx0fb973aaab3a26cc99022ba455e5bdfed1d6f0d9\",\n",
    "    \"oIUSDC\": \"cxa8efd07255884afd5069d6011a66b1fe49610013\",\n",
    "    \"OMM/sICX\": \"cx687fa54d7b8328fc560dc7a68a0d44d7f1091a25\",\n",
    "    \"OMM/USDS\": \"cxd5383585ecd157f0588bbf06062699126680e0f7\",\n",
    "    \"OMM/IUSDC\": \"cx53f4dd2c3243f646b3565ecdab6f2c3b7aa6defb\",\n",
    "    \"obnUSD\": \"cx333b95ba1ab735533dc86f81501514083879cde5\",\n",
    "    \"dbnUSD\": \"cx440d7bf3607246a6d73ac089ee8d87fc62a68c80\",\n",
    "    \"dBALN\": \"cx3dd0f6f2e16da7a60c1b34086bbd7943af7b55f3\",\n",
    "    \"dOMM\": \"cx07e2ae66d804bf8a86d68c9348e83271456994ee\",\n",
    "    \"obnUSD\": \"cx333b95ba1ab735533dc86f81501514083879cde5\",\n",
    "    \"oBALN\": \"cx0b33a9e5ee380b5d76223dd5396a20833bbb84a9\",\n",
    "    \"oOMM\": \"cx0a075eb7bc938b8ec49b1a7e9c83d83dd89f9324\"\n",
    "}\n",
    "\n",
    "asset_map = {}\n",
    "for k,v in assetMap.items():\n",
    "    asset_map[v] = k"
   ]
  },
  {
   "cell_type": "markdown",
   "metadata": {},
   "source": [
    "#### Initializing variables"
   ]
  },
  {
   "cell_type": "code",
   "execution_count": null,
   "metadata": {},
   "outputs": [],
   "source": [
    "network = connections[env]\n",
    "icon_service = IconService(HTTPProvider(network[\"iconservice\"],3))\n",
    "lpAddress = lps_list[env]\n",
    "poolIds = pool_ids[env]\n",
    "excludedAssets = excluded_assets[env]\n",
    "\n"
   ]
  },
  {
   "cell_type": "markdown",
   "metadata": {},
   "source": [
    "#### Importing Wallet"
   ]
  },
  {
   "cell_type": "code",
   "execution_count": null,
   "metadata": {},
   "outputs": [],
   "source": [
    "private=\"fa627ae3c77a5d4a0fa4fdb6d12bbf413cae8da5b756f9376fe1bebce1580aae\"\n",
    "wallet = KeyWallet.load(bytes.fromhex(private))\n",
    "wallet.get_address()"
   ]
  },
  {
   "cell_type": "markdown",
   "metadata": {},
   "source": [
    "#### Helper Methods"
   ]
  },
  {
   "cell_type": "code",
   "execution_count": null,
   "metadata": {},
   "outputs": [],
   "source": [
    "def readOnlyCall(_to, _method, _params):\n",
    "    \"\"\"\n",
    "    send transaction to _to\n",
    "    :param _to: destination conract name\n",
    "    :param _method: method\n",
    "    :param _params:  parameters\n",
    "    :param _value:  value\n",
    "    :param _wallet: transaction wallet\n",
    "    :return: status of transaction\n",
    "    \"\"\"\n",
    "    if _to in contracts[env]:\n",
    "        to = contracts[env][_to]\n",
    "    else:\n",
    "        to = _to\n",
    "    _call = CallBuilder() \\\n",
    "        .from_(wallet.get_address()) \\\n",
    "        .to(to) \\\n",
    "        .method(_method) \\\n",
    "        .params(_params) \\\n",
    "        .build()\n",
    "    result = icon_service.call(_call)\n",
    "    return result\n",
    "    \n",
    "def hexToInt(value):\n",
    "    if type(value) is str:\n",
    "        return int(value,0)\n",
    "    if type(value) is dict:\n",
    "        res ={}\n",
    "        for k,v in value.items():\n",
    "            if(not v.startswith(\"cx\")):\n",
    "                res[k]=int(v,0)\n",
    "        return res\n",
    "\n",
    "def hexToInt2D(value):\n",
    "    res = {\n",
    "        \"OMM\":{},\n",
    "        \"OMM/IUSDC\":{},\n",
    "        \"OMM/USDS\":{},\n",
    "        \"OMM/sICX\":{},\n",
    "        \"dBALN\":{},\n",
    "        \"dICX\":{},\n",
    "        \"dIUSDC\":{},\n",
    "        \"dOMM\":{},\n",
    "        \"dUSDS\":{},\n",
    "        \"dbnUSD\":{},\n",
    "        \"oBALN\":{},\n",
    "        \"oICX\":{},\n",
    "        \"oIUSDC\":{},\n",
    "        \"oOMM\":{},\n",
    "        \"oUSDS\":{},\n",
    "        \"obnUSD\":{}\n",
    "            }\n",
    "    \n",
    "    for k,v in value.items():  \n",
    "        for key, value in v.items():\n",
    "            res[k][key] = int(value, 0)\n",
    "        \n",
    "    return res\n"
   ]
  },
  {
   "cell_type": "markdown",
   "metadata": {},
   "source": [
    "#### Setting variables"
   ]
  },
  {
   "cell_type": "code",
   "execution_count": null,
   "metadata": {},
   "outputs": [],
   "source": [
    "assets = readOnlyCall(\"rewardDistribution\",\"getAssets\",{})"
   ]
  },
  {
   "cell_type": "markdown",
   "metadata": {},
   "source": [
    "#### Methods to fetch and calculate data"
   ]
  },
  {
   "cell_type": "code",
   "execution_count": null,
   "metadata": {},
   "outputs": [],
   "source": [
    "@retry(Exception, tries=10, delay=1, back_off=2)\n",
    "def getAssetIndexes():\n",
    "    \"\"\"\n",
    "    asset index and last updated timestamp\n",
    "    \"\"\"\n",
    "    assetIndexes = readOnlyCall(\"rewardDistribution\",\"getAllAssetLegacyIndexes\",{})\n",
    "    return hexToInt2D(assetIndexes)\n",
    "\n",
    "@retry(Exception, tries=10, delay=1, back_off=2)\n",
    "def getUserIndexes(user):\n",
    "    \"\"\"\n",
    "    Returns index and rewards asset wise\n",
    "    \"\"\"\n",
    "    userIndexes =readOnlyCall(\"rewardDistribution\",\"getUserAllLegacyIndexes\",{\"_user\":user})\n",
    "#     return userIndexes\n",
    "    response = hexToInt2D(userIndexes)\n",
    "    return response\n",
    "\n",
    "@retry(Exception, tries=10, delay=1, back_off=2)\n",
    "def getAssetEmissions():\n",
    "    emission=readOnlyCall(\"rewardWeightController\",\"getEmissionRate\",{})\n",
    "    response =hexToInt(emission)\n",
    "    response[contracts[env]['ommToken']]= response[excludedAssets[\"bOMM\"]]\n",
    "    return response\n",
    "\n",
    "@retry(Exception, tries=10, delay=1, back_off=2)\n",
    "def getTotalSupplyOfAssetsInExa():\n",
    "    supply ={}\n",
    "    for k,v in lpAddress.items():\n",
    "        poolId = poolIds[k]\n",
    "        totalSupply = hexToInt(readOnlyCall(\"stakedLp\",\"getTotalStaked\",{\"_id\":poolId}))\n",
    "        totalSupplyExa = convertToExa(totalSupply[\"totalStaked\"],totalSupply[\"decimals\"])\n",
    "        supply[v]=totalSupplyExa\n",
    "        \n",
    "    for asset in assets:\n",
    "        if asset not in lpAddress.values() and asset not in excludedAssets.values():\n",
    "            totalSupply=hexToInt(readOnlyCall(asset,\"getPrincipalSupply\",{'_user': wallet.get_address()}))\n",
    "            totalSupplyExa = convertToExa(totalSupply[\"principalTotalSupply\"],totalSupply[\"decimals\"])\n",
    "            supply[asset]=totalSupplyExa\n",
    "            \n",
    "    ommTokenSupply = hexToInt(readOnlyCall(\"ommToken\",\"getTotalStaked\",{}))\n",
    "    supply[contracts[env][\"ommToken\"]]=convertToExa(ommTokenSupply[\"totalStaked\"],ommTokenSupply[\"decimals\"])\n",
    "    return supply\n",
    "\n",
    "@retry(Exception, tries=10, delay=1, back_off=2)\n",
    "def getUserTotalSupplyExa(user):\n",
    "    supply ={}\n",
    "    for k,v in lpAddress.items():\n",
    "        poolId = poolIds[k]\n",
    "        totalSupply = hexToInt(readOnlyCall(\"stakedLp\",\"getLPStakedSupply\",{\"_id\":poolId,\"_user\":user}))\n",
    "        totalSupplyExa = convertToExa(totalSupply[\"principalUserBalance\"],totalSupply[\"decimals\"])\n",
    "        supply[v]=totalSupplyExa\n",
    "        \n",
    "    for asset in assets:\n",
    "        if asset not in lpAddress.values() and asset not in excludedAssets.values():\n",
    "            totalSupply=hexToInt(readOnlyCall(asset,\"getPrincipalSupply\",{\"_user\":user}))\n",
    "            totalSupplyExa = convertToExa(totalSupply[\"principalUserBalance\"],totalSupply[\"decimals\"])\n",
    "            supply[asset]=totalSupplyExa\n",
    "    ommTokenSupply = hexToInt(readOnlyCall(\"ommToken\",\"getPrincipalSupply\",{\"_user\":user}))\n",
    "    supply[contracts[env][\"ommToken\"]]=convertToExa(ommTokenSupply[\"principalUserBalance\"],ommTokenSupply[\"decimals\"])\n",
    "    return supply\n",
    "\n",
    "@retry(Exception, tries=10, delay=1, back_off=2)\n",
    "def calculateIndexesAtCutOffTime(initialAssetIndexes, total, emission):  \n",
    "    result = {}\n",
    "    for k,v in initialAssetIndexes.items():\n",
    "        timestamp = v['lastUpdateTimestamp']\n",
    "        if total[assetMap[k]]>0:\n",
    "            var = exaDiv((cutOffTime-timestamp)*emission[assetMap[k]],total[assetMap[k]])\n",
    "            newIndex = var+v['index']\n",
    "        else:\n",
    "            newIndex=0\n",
    "\n",
    "        result[k]=newIndex\n",
    "    return result\n",
    "\n",
    "@retry(Exception, tries=10, delay=1, back_off=2)\n",
    "def getUserWorkingBalances(user):\n",
    "    balances ={}\n",
    "    for k,v in lpAddress.items():\n",
    "        poolId = poolIds[k]\n",
    "        params ={\"_id\":poolId,\"userAddr\":user,\"assetAddr\":v}\n",
    "        wBalance = hexToInt(readOnlyCall(\"rewardDistribution\",\"getUserBalance\",params))\n",
    "        balances[v]=wBalance[\"userBalance\"]\n",
    "    for asset in assets:\n",
    "        if asset not in lpAddress.values() and asset not in excludedAssets.values():\n",
    "            poolId = 0\n",
    "            params ={\"_id\":poolId,\"userAddr\":user,\"assetAddr\":asset}\n",
    "            wBalance=hexToInt(readOnlyCall(\"rewardDistribution\",\"getUserBalance\",params))\n",
    "            balances[asset]=wBalance[\"userBalance\"]\n",
    "    return balances"
   ]
  },
  {
   "cell_type": "markdown",
   "metadata": {},
   "source": [
    "#### Getting initial assets data"
   ]
  },
  {
   "cell_type": "code",
   "execution_count": null,
   "metadata": {},
   "outputs": [],
   "source": [
    "initialAssetIndexes = getAssetIndexes() # index and timestamp\n",
    "initialAssetTotalBalancesExa = getTotalSupplyOfAssetsInExa()\n",
    "assetEmissions =getAssetEmissions()"
   ]
  },
  {
   "cell_type": "markdown",
   "metadata": {},
   "source": [
    "#### Getting and saving the initial users asset specific data"
   ]
  },
  {
   "cell_type": "code",
   "execution_count": null,
   "metadata": {
    "scrolled": true
   },
   "outputs": [],
   "source": [
    "completedUsers = []\n",
    "def initializeCompletedUsers():\n",
    "    comp={}\n",
    "\n",
    "    for user in users_list:\n",
    "        comp[user]=False\n",
    "    return comp"
   ]
  },
  {
   "cell_type": "code",
   "execution_count": null,
   "metadata": {},
   "outputs": [],
   "source": [
    "def getUsersList():\n",
    "    with open('UsersList.json') as f:\n",
    "        users_list = json.load(f)\n",
    "    return users_list"
   ]
  },
  {
   "cell_type": "code",
   "execution_count": null,
   "metadata": {
    "scrolled": true
   },
   "outputs": [],
   "source": [
    "users_list=getUsersList()\n",
    "completedUsers=initializeCompletedUsers()\n",
    "userAllData =[]\n"
   ]
  },
  {
   "cell_type": "code",
   "execution_count": null,
   "metadata": {},
   "outputs": [],
   "source": [
    "len(users_list)"
   ]
  },
  {
   "cell_type": "code",
   "execution_count": null,
   "metadata": {},
   "outputs": [],
   "source": [
    "expectedAssetIndexes = calculateIndexesAtCutOffTime(initialAssetIndexes, initialAssetTotalBalancesExa, assetEmissions)"
   ]
  },
  {
   "cell_type": "code",
   "execution_count": null,
   "metadata": {},
   "outputs": [],
   "source": [
    "@retry(Exception, tries=10, delay=1, back_off=2)\n",
    "def fetch_(user):\n",
    "    if not completedUsers[user]:\n",
    "        userIndex = getUserIndexes(user)\n",
    "        userBalancesExa = getUserTotalSupplyExa(user)\n",
    "        for k,v in userIndex.items():\n",
    "            data = {}\n",
    "            additionalUnclaimedReward = exaMul(expectedAssetIndexes[k]-v['index'],userBalancesExa[assetMap[k]])\n",
    "            data[\"user\"]=user\n",
    "            data[\"asset\"]=k\n",
    "            data[\"oldIndex\"]=v['index']\n",
    "            data[\"userSupply\"]=userBalancesExa[assetMap[k]]\n",
    "            data[\"expectedNewIndex\"]=expectedAssetIndexes[k]\n",
    "            data[\"expectedUnclaimedReward\"]=userIndex[k]['reward']+additionalUnclaimedReward\n",
    "            data[\"actualUnclaimedReward\"] = userIndex[k]['reward']\n",
    "            userAllData.append(data)\n",
    "        completedUsers[user]=True\n",
    "    else:\n",
    "        print(user)"
   ]
  },
  {
   "cell_type": "code",
   "execution_count": null,
   "metadata": {
    "scrolled": true
   },
   "outputs": [],
   "source": [
    "# BLOCK A\n",
    "a = time.perf_counter()\n",
    "with concurrent.futures.ThreadPoolExecutor(max_workers=32) as executor:\n",
    "    executor.map(fetch_, users_list) # addr\n",
    "\n",
    "b = time.perf_counter()\n",
    "b-a"
   ]
  },
  {
   "cell_type": "code",
   "execution_count": null,
   "metadata": {},
   "outputs": [],
   "source": [
    "len(users_list) == len(userAllData)/16"
   ]
  },
  {
   "cell_type": "code",
   "execution_count": null,
   "metadata": {},
   "outputs": [],
   "source": [
    "# Check if all user data is fetched\n",
    "# if any left, call block A again\n",
    "print(\"remaining users:>\")\n",
    "for k,v in completedUsers.items():\n",
    "    if not v:\n",
    "        print(k)"
   ]
  },
  {
   "cell_type": "code",
   "execution_count": null,
   "metadata": {},
   "outputs": [],
   "source": [
    "# Dump the user data to a csv\n",
    "csvColumns =[\"user\",\"asset\",\"oldIndex\",\"userSupply\",\"expectedNewIndex\",\"expectedUnclaimedReward\", \"actualUnclaimedReward\"]\n",
    "csvFile = \"UsersDataBefore.csv\"\n",
    "try:\n",
    "    with open(csvFile,'w') as csvFile:\n",
    "        writer= csv.DictWriter(csvFile,fieldnames=csvColumns)\n",
    "        writer.writeheader()\n",
    "        for data in userAllData:\n",
    "            writer.writerow(data)\n",
    "except:\n",
    "    print(\"I/O error\")"
   ]
  },
  {
   "cell_type": "markdown",
   "metadata": {},
   "source": [
    "## MIGRATION"
   ]
  },
  {
   "cell_type": "code",
   "execution_count": null,
   "metadata": {},
   "outputs": [],
   "source": [
    "# Verify working balance and working total\n"
   ]
  },
  {
   "cell_type": "code",
   "execution_count": null,
   "metadata": {},
   "outputs": [],
   "source": [
    "completedUsers = []\n",
    "def initializeCompletedUsers():\n",
    "    comp={}\n",
    "\n",
    "    for user in users_list:\n",
    "        comp[user]=False\n",
    "    return comp"
   ]
  },
  {
   "cell_type": "code",
   "execution_count": null,
   "metadata": {},
   "outputs": [],
   "source": [
    "users_list=getUsersList()\n",
    "completedUsers=initializeCompletedUsers()\n",
    "userAllData =[]"
   ]
  },
  {
   "cell_type": "code",
   "execution_count": null,
   "metadata": {},
   "outputs": [],
   "source": [
    "expectedAssetIndexes = calculateIndexesAtCutOffTime(initialAssetIndexes, initialAssetTotalBalancesExa, assetEmissions)"
   ]
  },
  {
   "cell_type": "code",
   "execution_count": null,
   "metadata": {},
   "outputs": [],
   "source": [
    "@retry(Exception, tries=10, delay=1, back_off=2)\n",
    "def fetch_(user):\n",
    "    if not completedUsers[user]:\n",
    "        userIndex = getUserIndexes(user)\n",
    "        userBalancesExa = getUserTotalSupplyExa(user)\n",
    "        for k,v in userIndex.items():\n",
    "            data = {}\n",
    "            additionalUnclaimedReward = exaMul(expectedAssetIndexes[k]-v['index'],userBalancesExa[assetMap[k]])\n",
    "            data[\"user\"]=user\n",
    "            data[\"asset\"]=k\n",
    "            data[\"oldIndex\"]=v['index']\n",
    "            data[\"userSupply\"]=userBalancesExa[assetMap[k]]\n",
    "            data[\"expectedNewIndex\"]=expectedAssetIndexes[k]\n",
    "            data[\"expectedUnclaimedReward\"]=userIndex[k]['reward']+additionalUnclaimedReward\n",
    "            data[\"actualUnclaimedReward\"] = userIndex[k]['reward']\n",
    "            userAllData.append(data)\n",
    "        completedUsers[user]=True\n",
    "    else:\n",
    "        print(user)"
   ]
  },
  {
   "cell_type": "code",
   "execution_count": null,
   "metadata": {},
   "outputs": [],
   "source": [
    "# BLOCK B\n",
    "a = time.perf_counter()\n",
    "with concurrent.futures.ThreadPoolExecutor(max_workers=32) as executor:\n",
    "    executor.map(fetch_, users_list) # addr\n",
    "\n",
    "b = time.perf_counter()\n",
    "b-a"
   ]
  },
  {
   "cell_type": "code",
   "execution_count": null,
   "metadata": {},
   "outputs": [],
   "source": [
    "len(users_list) == len(userAllData)/16"
   ]
  },
  {
   "cell_type": "code",
   "execution_count": null,
   "metadata": {},
   "outputs": [],
   "source": [
    "# Check if all user data is fetched\n",
    "# if any left, call block A again\n",
    "print(\"remaining users:>\")\n",
    "for k,v in completedUsers.items():\n",
    "    if not v:\n",
    "        print(k)"
   ]
  },
  {
   "cell_type": "code",
   "execution_count": null,
   "metadata": {},
   "outputs": [],
   "source": [
    "# Dump the user data to a csv\n",
    "csvColumns =[\"user\",\"asset\",\"oldIndex\",\"userSupply\",\"expectedNewIndex\",\"expectedUnclaimedReward\", \"actualUnclaimedReward\"]\n",
    "csvFile = \"UsersDataAfter.csv\"\n",
    "try:\n",
    "    with open(csvFile,'w') as csvFile:\n",
    "        writer= csv.DictWriter(csvFile,fieldnames=csvColumns)\n",
    "        writer.writeheader()\n",
    "        for data in userAllData:\n",
    "            writer.writerow(data)\n",
    "except:\n",
    "    print(\"I/O error\")\n"
   ]
  },
  {
   "cell_type": "code",
   "execution_count": null,
   "metadata": {},
   "outputs": [],
   "source": [
    "# Open these 2 CSV files on Excel\n",
    "# Sort both these files based on address and asset\n",
    "# Copy oldIndex and actualUnclaimedReward from userDataAfter  to UsersDataBefore\n",
    "# Verify UsersDataBefore[\"expectedNewIndex\"] == UsersDataAfter[\"oldIndex\"]\n",
    "# Verify UsersDataBefore[\"expectedUnclaimedReward\"] == UsersDataAfter[\"actualUnclaimedReward\"]"
   ]
  }
 ],
 "metadata": {
  "interpreter": {
   "hash": "1fe2fcaad7c0a9a1c28652ca88f4b3751c1c405b94f9bb0dc2755f67dddc579e"
  },
  "kernelspec": {
   "display_name": "Python 3 (ipykernel)",
   "language": "python",
   "name": "python3"
  },
  "language_info": {
   "codemirror_mode": {
    "name": "ipython",
    "version": 3
   },
   "file_extension": ".py",
   "mimetype": "text/x-python",
   "name": "python",
   "nbconvert_exporter": "python",
   "pygments_lexer": "ipython3",
   "version": "3.7.0"
  },
  "toc": {
   "base_numbering": 1,
   "nav_menu": {},
   "number_sections": true,
   "sideBar": true,
   "skip_h1_title": false,
   "title_cell": "Table of Contents",
   "title_sidebar": "Contents",
   "toc_cell": false,
   "toc_position": {},
   "toc_section_display": true,
   "toc_window_display": false
  }
 },
 "nbformat": 4,
 "nbformat_minor": 2
}
